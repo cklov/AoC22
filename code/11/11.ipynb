{
 "cells": [
  {
   "cell_type": "code",
   "execution_count": 136,
   "metadata": {},
   "outputs": [
    {
     "name": "stdout",
     "output_type": "stream",
     "text": [
      "72884\n"
     ]
    }
   ],
   "source": [
    "m = {}\n",
    "with open('input.txt', \"r\") as f:\n",
    "    lines = f.readlines()\n",
    "i = 0\n",
    "while i < len(lines):\n",
    "    num = int(lines[i].split()[1][0])\n",
    "    m[num] = {\n",
    "        \"items\": [int(k.strip(\"\\n\")) for k in lines[i + 1].split(\": \")[1].split(\", \")],\n",
    "        \"ops\": lines[i + 2].split()[-2:],\n",
    "        \"test\": int(lines[i + 3].split()[-1]),\n",
    "        \"true\": int(lines[i + 4].split()[-1]),\n",
    "        \"false\": int(lines[i + 5].split()[-1]),\n",
    "        \"mb\": 0\n",
    "    }\n",
    "    i += 7\n",
    "def worry(old, cmd):\n",
    "    new = old if cmd[1] == \"old\" else int(cmd[1])\n",
    "    if cmd[0] == \"*\":\n",
    "        return old * new\n",
    "    else:\n",
    "        return old + new\n",
    "for _ in range(20):\n",
    "    for monkey in m.keys():\n",
    "        p = len(m[monkey][\"items\"])\n",
    "        for i, val in enumerate(m[monkey][\"items\"]):\n",
    "            w = worry(val, m[monkey][\"ops\"]) // 3\n",
    "            if w % m[monkey][\"test\"] == 0:\n",
    "                m[m[monkey][\"true\"]][\"items\"].append(w)\n",
    "            else:\n",
    "                m[m[monkey][\"false\"]][\"items\"].append(w)\n",
    "            m[monkey][\"mb\"] += 1\n",
    "        m[monkey][\"items\"] = m[monkey][\"items\"][p:]\n",
    "    #print([m[k][\"items\"] for k in m.keys()])\n",
    "mb = [m[k][\"mb\"] for k in m.keys()]\n",
    "mb.sort()\n",
    "print(mb[-1] * mb[-2])\n",
    "\n"
   ]
  },
  {
   "cell_type": "code",
   "execution_count": 189,
   "metadata": {},
   "outputs": [
    {
     "name": "stdout",
     "output_type": "stream",
     "text": [
      "15310845153\n"
     ]
    }
   ],
   "source": [
    "m = {}\n",
    "with open('input.txt', \"r\") as f:\n",
    "    lines = f.readlines()\n",
    "i = 0\n",
    "maxlim = 1\n",
    "while i < len(lines):\n",
    "    num = int(lines[i].split()[1][0])\n",
    "    m[num] = {\n",
    "        \"items\": [int(k.strip(\"\\n\")) for k in lines[i + 1].split(\": \")[1].split(\", \")],\n",
    "        \"ops\": lines[i + 2].split()[-2:],\n",
    "        \"test\": int(lines[i + 3].split()[-1]),\n",
    "        \"true\": int(lines[i + 4].split()[-1]),\n",
    "        \"false\": int(lines[i + 5].split()[-1]),\n",
    "        \"mb\": 0\n",
    "    }\n",
    "    maxlim *= m[num][\"test\"]\n",
    "    i += 7\n",
    "def worry(old, cmd):\n",
    "    new = old if cmd[1] == \"old\" else int(cmd[1])\n",
    "    if cmd[0] == \"*\":\n",
    "        return old * new\n",
    "    else:\n",
    "        return old + new\n",
    "for _ in range(10000):\n",
    "    for monkey in m.keys():\n",
    "        p = len(m[monkey][\"items\"])\n",
    "        for i, val in enumerate(m[monkey][\"items\"]):\n",
    "            w = worry(val, m[monkey][\"ops\"])\n",
    "            w = min(w, maxlim + divmod(w, maxlim)[1])\n",
    "            if (w % m[monkey][\"test\"]) == 0:\n",
    "                m[m[monkey][\"true\"]][\"items\"].append(w)\n",
    "            else:\n",
    "                m[m[monkey][\"false\"]][\"items\"].append(w)\n",
    "            m[monkey][\"mb\"] += 1\n",
    "        m[monkey][\"items\"] = m[monkey][\"items\"][p:]\n",
    "mb = [m[k][\"mb\"] for k in m.keys()]\n",
    "mb.sort()\n",
    "print(mb[-1] * mb[-2])"
   ]
  }
 ],
 "metadata": {
  "kernelspec": {
   "display_name": "pyenv",
   "language": "python",
   "name": "python3"
  },
  "language_info": {
   "codemirror_mode": {
    "name": "ipython",
    "version": 3
   },
   "file_extension": ".py",
   "mimetype": "text/x-python",
   "name": "python",
   "nbconvert_exporter": "python",
   "pygments_lexer": "ipython3",
   "version": "3.9.13"
  },
  "orig_nbformat": 4,
  "vscode": {
   "interpreter": {
    "hash": "a27e977d227fba7592347e2a0dd68332846149cb0d614018ee9b918ebae0d940"
   }
  }
 },
 "nbformat": 4,
 "nbformat_minor": 2
}
