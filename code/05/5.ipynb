{
 "cells": [
  {
   "cell_type": "code",
   "execution_count": 183,
   "metadata": {},
   "outputs": [
    {
     "name": "stdout",
     "output_type": "stream",
     "text": [
      "[['Q', 'P', 'H', 'C', 'V', 'C', 'S', 'D', 'L', 'P', 'D', 'J', 'S'], ['T', 'G', 'B'], ['M', 'P', 'R', 'D', 'P'], ['M', 'Z', 'J', 'Q'], ['G', 'T', 'R', 'L', 'N', 'N', 'R'], ['N', 'V', 'V', 'F', 'F', 'S'], ['S', 'H', 'S', 'B', 'C', 'W', 'R', 'C'], ['L', 'B', 'S', 'M', 'R', 'J', 'V', 'Q', 'D'], ['F']]\n",
      "SBPQRSCDF\n"
     ]
    }
   ],
   "source": [
    "sol = \"\"\n",
    "with open('input.txt', 'r') as f:\n",
    "    file = f.readlines()\n",
    "crates = [str(f.replace(\"\\n\",\"\")) for f in file[:8]]\n",
    "cmds = file[10:]\n",
    "stacks = []\n",
    "temp = []\n",
    "for col in range(1, len(crates[0]), 4):\n",
    "    temp = [row[col] for row in crates if row[col] != \" \"]       \n",
    "    temp.reverse()\n",
    "    stacks.append(temp)\n",
    "    temp = []\n",
    "for c in cmds:\n",
    "    m, f, t = [int(c.split(\" \")[i]) for i in range(1, 6, 2)]\n",
    "    move = stacks[f - 1][-m:]\n",
    "    move.reverse()\n",
    "    stacks[t - 1].extend(move)\n",
    "    stacks[f - 1] = stacks[f - 1][:-m]\n",
    "for s in stacks:\n",
    "    sol += s[-1]\n",
    "print(sol)"
   ]
  },
  {
   "cell_type": "code",
   "execution_count": 185,
   "metadata": {},
   "outputs": [
    {
     "name": "stdout",
     "output_type": "stream",
     "text": [
      "RGLVRCQSB\n"
     ]
    }
   ],
   "source": [
    "sol = \"\"\n",
    "crates = [str(f.replace(\"\\n\",\"\")) for f in file[:8]]\n",
    "cmds = file[10:]\n",
    "stacks = []\n",
    "temp = []\n",
    "for col in range(1, len(crates[0]), 4):\n",
    "    temp = [row[col] for row in crates if row[col] != \" \"]       \n",
    "    temp.reverse()\n",
    "    stacks.append(temp)\n",
    "    temp = []\n",
    "for c in cmds:\n",
    "    m, f, t = [int(c.split(\" \")[i]) for i in range(1, 6, 2)]\n",
    "    move = stacks[f - 1][-m:]\n",
    "    stacks[t - 1].extend(move)\n",
    "    stacks[f - 1] = stacks[f - 1][:-m]\n",
    "for s in stacks:\n",
    "    sol += s[-1]\n",
    "print(sol)\n"
   ]
  }
 ],
 "metadata": {
  "kernelspec": {
   "display_name": "Python 3.9.13 ('pyenv': venv)",
   "language": "python",
   "name": "python3"
  },
  "language_info": {
   "codemirror_mode": {
    "name": "ipython",
    "version": 3
   },
   "file_extension": ".py",
   "mimetype": "text/x-python",
   "name": "python",
   "nbconvert_exporter": "python",
   "pygments_lexer": "ipython3",
   "version": "3.9.13"
  },
  "orig_nbformat": 4,
  "vscode": {
   "interpreter": {
    "hash": "a27e977d227fba7592347e2a0dd68332846149cb0d614018ee9b918ebae0d940"
   }
  }
 },
 "nbformat": 4,
 "nbformat_minor": 2
}
