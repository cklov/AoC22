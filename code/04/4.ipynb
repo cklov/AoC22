{
 "cells": [
  {
   "cell_type": "code",
   "execution_count": 102,
   "metadata": {},
   "outputs": [
    {
     "name": "stdout",
     "output_type": "stream",
     "text": [
      "1000\n",
      "1000\n"
     ]
    }
   ],
   "source": [
    "sum1 = 0\n",
    "sum2 = 0\n",
    "for line in open('input.txt', 'r').readlines():\n",
    "    a, b, c, d = [int(i) for i in line.replace('-', ',').split(',')]\n",
    "    sum1 += (((a - c <= 0) and (b - d >= 0)) or ((c - a <= 0) or (d - b >= 0))) * 1\n",
    "    if len(list(set(range(a, b + 1)) or set(range(c, d + 1)))) > 0:\n",
    "        sum2 += 1\n",
    "print(sum1)\n",
    "print(sum2)\n",
    "    "
   ]
  }
 ],
 "metadata": {
  "kernelspec": {
   "display_name": "Python 3.9.13 ('pyenv': venv)",
   "language": "python",
   "name": "python3"
  },
  "language_info": {
   "codemirror_mode": {
    "name": "ipython",
    "version": 3
   },
   "file_extension": ".py",
   "mimetype": "text/x-python",
   "name": "python",
   "nbconvert_exporter": "python",
   "pygments_lexer": "ipython3",
   "version": "3.9.13"
  },
  "orig_nbformat": 4,
  "vscode": {
   "interpreter": {
    "hash": "a27e977d227fba7592347e2a0dd68332846149cb0d614018ee9b918ebae0d940"
   }
  }
 },
 "nbformat": 4,
 "nbformat_minor": 2
}
