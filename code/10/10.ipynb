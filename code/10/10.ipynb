{
 "cells": [
  {
   "cell_type": "code",
   "execution_count": 18,
   "metadata": {},
   "outputs": [
    {
     "name": "stdout",
     "output_type": "stream",
     "text": [
      "[1, 1, 1, 2, 2, 6, 6, 7, 7, 7, 11, 11, 14, 14, 12, 12, 17, 17, 16, 16, 16, 19, 19, 19, 26, 26, 25, 25, 26, 26, 26, 32, 32, 31, 31, 36, 36, 36, 36, 36, -1, -1, 6, 6, 6, 6, 6, 11, 11, 11, 11, 11, 20, 20, 12, 12, 14, 14, 19, 19, 21, 21, 26, 26, 26, 26, 24, 24, 24, 27, 27, 29, 29, 29, 32, 32, 34, 34, 34, 37, 37, 1, 1, 1, 27, 27, 6, 6, 6, 6, 6, 9, 9, 14, 14, 16, 16, 12, 12, 12, 21, 21, 26, 26, 26, 26, 26, 20, 20, 27, 27, 29, 29, 29, 32, 32, 34, 34, 39, 39, 0, 0, 34, 34, 39, 39, 4, 4, 4, 30, 30, 9, 9, 14, 14, 16, 16, 18, 18, 18, 21, 21, 33, 33, 26, 26, 26, 26, 26, 26, 26, 31, 31, 33, 33, 36, 36, 36, 36, 36, 36, -1, -1, 20, 20, 6, 6, 22, 22, 11, 11, 11, 9, 9, 12, 12, 14, 14, 19, 19, 21, 21, 6, 6, 12, 12, 24, 24, 22, 22, 31, 31, 25, 25, 32, 32, 34, 34, 34, 34, 34, 1, 1, 2, 2, 2, 4, 4, 17, 17, 32, 32, 11, 11, 32, 32, 17, 17, 17, 17, 21, 21, 22, 22, 22, 26, 26, 34, 34, 40, 40, 29, 29, 34, 34, 36, 36, 1, 1, 0, 0, 0]\n",
      "15020\n"
     ]
    }
   ],
   "source": [
    "ss = [1, 1]\n",
    "sum = 0\n",
    "for line in open(\"input.txt\", \"r\").readlines():\n",
    "    cmd = line.split()\n",
    "    if cmd[0] == \"noop\":\n",
    "        ss.append(ss[-1])\n",
    "    else:\n",
    "        ss.extend([ss[-1], ss[-1] + int(cmd[1])])\n",
    "for i in range(20, 260, 40):\n",
    "    sum += ss[i] * i\n",
    "print(sum)"
   ]
  },
  {
   "cell_type": "code",
   "execution_count": 20,
   "metadata": {},
   "outputs": [
    {
     "name": "stdout",
     "output_type": "stream",
     "text": [
      "####.####.#..#..##..#....###...##..###..\n",
      "#....#....#..#.#..#.#....#..#.#..#.#..#.\n",
      "###..###..#..#.#....#....#..#.#..#.#..#.\n",
      "#....#....#..#.#.##.#....###..####.###..\n",
      "#....#....#..#.#..#.#....#....#..#.#....\n",
      "####.#.....##...###.####.#....#..#.#....\n"
     ]
    }
   ],
   "source": [
    "cycle = 0\n",
    "line = \"\"\n",
    "for x in ss[1:]:\n",
    "    if len(line) in [x - 1, x, x + 1]:\n",
    "        line += \"#\"\n",
    "    else:\n",
    "        line += \".\"\n",
    "    cycle += 1\n",
    "    if cycle > 39:\n",
    "        print(line)\n",
    "        line = \"\"\n",
    "        cycle = 0\n"
   ]
  }
 ],
 "metadata": {
  "kernelspec": {
   "display_name": "Python 3.9.13 ('pyenv': venv)",
   "language": "python",
   "name": "python3"
  },
  "language_info": {
   "codemirror_mode": {
    "name": "ipython",
    "version": 3
   },
   "file_extension": ".py",
   "mimetype": "text/x-python",
   "name": "python",
   "nbconvert_exporter": "python",
   "pygments_lexer": "ipython3",
   "version": "3.9.13"
  },
  "orig_nbformat": 4,
  "vscode": {
   "interpreter": {
    "hash": "a27e977d227fba7592347e2a0dd68332846149cb0d614018ee9b918ebae0d940"
   }
  }
 },
 "nbformat": 4,
 "nbformat_minor": 2
}
