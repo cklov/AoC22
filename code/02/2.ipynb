{
 "cells": [
  {
   "cell_type": "code",
   "execution_count": 32,
   "metadata": {},
   "outputs": [
    {
     "name": "stdout",
     "output_type": "stream",
     "text": [
      "15523\n"
     ]
    }
   ],
   "source": [
    "import string\n",
    "alphabet = list(string.ascii_uppercase)\n",
    "score = 0\n",
    "for line in open('input.txt').readlines():\n",
    "    p1 = alphabet.index(line[0]) + 1\n",
    "    p2 = alphabet.index(line[2]) - 22\n",
    "    if p1 - p2 == 0:\n",
    "        score += (p2 + 3)\n",
    "    elif (p1 - p2) in [-1 , 2]:\n",
    "        score += (p2 + 6)\n",
    "    else:\n",
    "        score += p2\n",
    "print(score)"
   ]
  },
  {
   "cell_type": "code",
   "execution_count": 34,
   "metadata": {},
   "outputs": [
    {
     "name": "stdout",
     "output_type": "stream",
     "text": [
      "15702\n"
     ]
    }
   ],
   "source": [
    "score = 0\n",
    "for line in open('input.txt').readlines():\n",
    "    p1 = alphabet.index(line[0]) + 1\n",
    "    outcome = (alphabet.index(line[2]) - 23) * 3\n",
    "    if outcome == 3:\n",
    "        score += (outcome + p1)\n",
    "    elif outcome == 6:\n",
    "        score += outcome\n",
    "        if p1 <= 2:\n",
    "            score += p1 + 1\n",
    "        else:\n",
    "            score += p1 - 2\n",
    "    else:\n",
    "        score += outcome\n",
    "        if p1 > 1:\n",
    "            score += p1 - 1\n",
    "        else:\n",
    "            score += p1 + 2\n",
    "print(score)\n"
   ]
  },
  {
   "cell_type": "code",
   "execution_count": 38,
   "metadata": {},
   "outputs": [
    {
     "name": "stdout",
     "output_type": "stream",
     "text": [
      "1\n"
     ]
    }
   ],
   "source": [
    "print((1 - 3) % 3)"
   ]
  }
 ],
 "metadata": {
  "kernelspec": {
   "display_name": "Python 3.9.13 ('pyenv': venv)",
   "language": "python",
   "name": "python3"
  },
  "language_info": {
   "codemirror_mode": {
    "name": "ipython",
    "version": 3
   },
   "file_extension": ".py",
   "mimetype": "text/x-python",
   "name": "python",
   "nbconvert_exporter": "python",
   "pygments_lexer": "ipython3",
   "version": "3.9.13"
  },
  "orig_nbformat": 4,
  "vscode": {
   "interpreter": {
    "hash": "a27e977d227fba7592347e2a0dd68332846149cb0d614018ee9b918ebae0d940"
   }
  }
 },
 "nbformat": 4,
 "nbformat_minor": 2
}
