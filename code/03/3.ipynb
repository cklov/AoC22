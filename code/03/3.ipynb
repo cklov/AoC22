{
 "cells": [
  {
   "cell_type": "code",
   "execution_count": 2,
   "metadata": {},
   "outputs": [
    {
     "name": "stdout",
     "output_type": "stream",
     "text": [
      "7817\n"
     ]
    }
   ],
   "source": [
    "import string\n",
    "al = list(string.ascii_lowercase + string.ascii_uppercase)\n",
    "sum = 0\n",
    "with open('input.txt', 'r') as f:\n",
    "    lines = f.read().splitlines()\n",
    "for line in lines:\n",
    "    c = list(set(line[:len(line) // 2]) & set(line[len(line) // 2:]))\n",
    "    sum += al.index(c[0]) + 1\n",
    "print(sum)"
   ]
  },
  {
   "cell_type": "code",
   "execution_count": 13,
   "metadata": {},
   "outputs": [
    {
     "name": "stdout",
     "output_type": "stream",
     "text": [
      "2444\n"
     ]
    }
   ],
   "source": [
    "sum = 0\n",
    "for i in range(0, len(lines), 3):\n",
    "    c = list(set(list(set(lines[i]) & set(lines[i + 1]))) & set(lines[i + 2]))\n",
    "    sum += al.index(c[0]) + 1\n",
    "print(sum)\n",
    "\n",
    "\n"
   ]
  }
 ],
 "metadata": {
  "kernelspec": {
   "display_name": "Python 3.9.13 ('pyenv': venv)",
   "language": "python",
   "name": "python3"
  },
  "language_info": {
   "codemirror_mode": {
    "name": "ipython",
    "version": 3
   },
   "file_extension": ".py",
   "mimetype": "text/x-python",
   "name": "python",
   "nbconvert_exporter": "python",
   "pygments_lexer": "ipython3",
   "version": "3.9.13"
  },
  "orig_nbformat": 4,
  "vscode": {
   "interpreter": {
    "hash": "a27e977d227fba7592347e2a0dd68332846149cb0d614018ee9b918ebae0d940"
   }
  }
 },
 "nbformat": 4,
 "nbformat_minor": 2
}
