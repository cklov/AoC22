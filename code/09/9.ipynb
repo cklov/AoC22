{
 "cells": [
  {
   "cell_type": "code",
   "execution_count": 128,
   "metadata": {},
   "outputs": [
    {
     "name": "stdout",
     "output_type": "stream",
     "text": [
      "6175\n",
      "2578\n"
     ]
    }
   ],
   "source": [
    "knots = dict()\n",
    "for i in range(10):\n",
    "    knots[i] = {\"y\": 0, \"x\": 0}\n",
    "hist = {1:[(0, 0)], 9:[(0, 0)]}\n",
    "for line in open(\"input.txt\", \"r\").readlines():\n",
    "    dir, step = line.split()\n",
    "    for i in range(int(step)):\n",
    "        for k in knots.keys():\n",
    "            if k == 0:\n",
    "                knots[0][\"y\"] += 1 * (dir == \"U\") - 1 * (dir == \"D\") \n",
    "                knots[0][\"x\"] += 1 * (dir == \"R\") - 1 * (dir == \"L\")\n",
    "            elif ((knots[k - 1][\"y\"] - knots[k][\"y\"]) ** 2 + (knots[k - 1][\"x\"] - knots[k][\"x\"]) ** 2) ** 0.5 > 2 ** 0.5:\n",
    "                for pos in [\"y\", \"x\"]:\n",
    "                    if knots[k - 1][pos] - knots[k][pos] > 0:\n",
    "                        knots[k][pos] += 1\n",
    "                    elif knots[k - 1][pos] - knots[k][pos] < 0:\n",
    "                        knots[k][pos] -= 1\n",
    "        for k in [1, 9]:\n",
    "            pos = (knots[k][\"y\"], knots[k][\"x\"])\n",
    "            if pos not in hist[k]:\n",
    "                hist[k].append(pos)\n",
    "print(len(hist[1]))\n",
    "print(len(hist[9]))"
   ]
  }
 ],
 "metadata": {
  "kernelspec": {
   "display_name": "Python 3.9.13 ('pyenv': venv)",
   "language": "python",
   "name": "python3"
  },
  "language_info": {
   "codemirror_mode": {
    "name": "ipython",
    "version": 3
   },
   "file_extension": ".py",
   "mimetype": "text/x-python",
   "name": "python",
   "nbconvert_exporter": "python",
   "pygments_lexer": "ipython3",
   "version": "3.9.13"
  },
  "orig_nbformat": 4,
  "vscode": {
   "interpreter": {
    "hash": "a27e977d227fba7592347e2a0dd68332846149cb0d614018ee9b918ebae0d940"
   }
  }
 },
 "nbformat": 4,
 "nbformat_minor": 2
}
