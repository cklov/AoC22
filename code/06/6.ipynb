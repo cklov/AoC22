{
 "cells": [
  {
   "cell_type": "code",
   "execution_count": 29,
   "metadata": {},
   "outputs": [
    {
     "name": "stdout",
     "output_type": "stream",
     "text": [
      "1804\n"
     ]
    }
   ],
   "source": [
    "ans = 0\n",
    "with open(\"input.txt\", \"r\") as f:\n",
    "    line = f.readlines()[0]\n",
    "for i, _ in enumerate(line[:-4]):\n",
    "    if len(set(line[i:i+4])) == 4:\n",
    "        ans = i + 4\n",
    "        break\n",
    "print(ans)"
   ]
  },
  {
   "cell_type": "code",
   "execution_count": 30,
   "metadata": {},
   "outputs": [
    {
     "name": "stdout",
     "output_type": "stream",
     "text": [
      "2508\n"
     ]
    }
   ],
   "source": [
    "ans = 0\n",
    "for i, _ in enumerate(line[:-14]):\n",
    "    if len(set(line[i:i+14])) == 14:\n",
    "        ans = i + 14\n",
    "        break\n",
    "print(ans)"
   ]
  }
 ],
 "metadata": {
  "kernelspec": {
   "display_name": "Python 3.9.13 ('pyenv': venv)",
   "language": "python",
   "name": "python3"
  },
  "language_info": {
   "codemirror_mode": {
    "name": "ipython",
    "version": 3
   },
   "file_extension": ".py",
   "mimetype": "text/x-python",
   "name": "python",
   "nbconvert_exporter": "python",
   "pygments_lexer": "ipython3",
   "version": "3.9.13"
  },
  "orig_nbformat": 4,
  "vscode": {
   "interpreter": {
    "hash": "a27e977d227fba7592347e2a0dd68332846149cb0d614018ee9b918ebae0d940"
   }
  }
 },
 "nbformat": 4,
 "nbformat_minor": 2
}
