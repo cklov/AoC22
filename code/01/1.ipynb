{
 "cells": [
  {
   "cell_type": "code",
   "execution_count": 49,
   "metadata": {},
   "outputs": [],
   "source": [
    "with open('1.txt') as f:\n",
    "    data = f.read()\n",
    "dat = data.replace('\\n', ',').replace(\",,\", \",0,\")\n",
    "prep = dat.split(',')\n",
    "prep = [int(i) for i in prep]"
   ]
  },
  {
   "cell_type": "code",
   "execution_count": 52,
   "metadata": {},
   "outputs": [
    {
     "name": "stdout",
     "output_type": "stream",
     "text": [
      "69289\n"
     ]
    }
   ],
   "source": [
    "cal = prep[0]\n",
    "temp = []\n",
    "for val in prep[1:]:\n",
    "    if val > 0:\n",
    "        cal += val\n",
    "    else:\n",
    "        temp.append(cal)\n",
    "        cal = 0\n",
    "res = max(temp)\n",
    "print(res)"
   ]
  },
  {
   "cell_type": "code",
   "execution_count": 56,
   "metadata": {},
   "outputs": [
    {
     "name": "stdout",
     "output_type": "stream",
     "text": [
      "[69289, 68321, 68005]\n",
      "205615\n"
     ]
    }
   ],
   "source": [
    "temp.sort(reverse=True)\n",
    "res2 = sum(temp[:3])\n",
    "print(res2)"
   ]
  }
 ],
 "metadata": {
  "kernelspec": {
   "display_name": "Python 3.9.13 ('pyenv': venv)",
   "language": "python",
   "name": "python3"
  },
  "language_info": {
   "codemirror_mode": {
    "name": "ipython",
    "version": 3
   },
   "file_extension": ".py",
   "mimetype": "text/x-python",
   "name": "python",
   "nbconvert_exporter": "python",
   "pygments_lexer": "ipython3",
   "version": "3.9.13"
  },
  "orig_nbformat": 4,
  "vscode": {
   "interpreter": {
    "hash": "a27e977d227fba7592347e2a0dd68332846149cb0d614018ee9b918ebae0d940"
   }
  }
 },
 "nbformat": 4,
 "nbformat_minor": 2
}
