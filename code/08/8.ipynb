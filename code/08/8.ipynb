{
 "cells": [
  {
   "cell_type": "code",
   "execution_count": 76,
   "metadata": {},
   "outputs": [
    {
     "name": "stdout",
     "output_type": "stream",
     "text": [
      "1870\n",
      "517440\n"
     ]
    }
   ],
   "source": [
    "import numpy as np\n",
    "trees = []\n",
    "for line in open(\"input.txt\", \"r\").readlines():\n",
    "    trees.append([int(i) for i in line if i != \"\\n\"])\n",
    "treesT = np.transpose(trees)\n",
    "sum = 2 * (len(trees) + (len(trees[0]) - 2))\n",
    "score = []\n",
    "def view(l, tr):\n",
    "    s = []\n",
    "    for i in l:\n",
    "        s.append(i)\n",
    "        if i >= tr:\n",
    "            break\n",
    "    return len(s)\n",
    "for j in range(1, len(trees) - 1):\n",
    "    for i in range(1, len(trees[0]) - 1):\n",
    "        t = trees[j][i]\n",
    "        min_tree = min(max(trees[j][:i]), max(trees[j][i+1:]), max(treesT[i][:j]), max(treesT[i][j+1:]))\n",
    "        sum = sum + 1 if t > min_tree else sum\n",
    "        score.append(view(list(reversed(trees[j][:i])), t) * view(trees[j][i+1:], t) * view(list(reversed(treesT[i][:j])), t) * view(treesT[i][j+1:], t))\n",
    "print(sum)\n",
    "print(max(score))\n",
    "\n",
    "\n",
    " "
   ]
  }
 ],
 "metadata": {
  "kernelspec": {
   "display_name": "Python 3.9.13 ('pyenv': venv)",
   "language": "python",
   "name": "python3"
  },
  "language_info": {
   "codemirror_mode": {
    "name": "ipython",
    "version": 3
   },
   "file_extension": ".py",
   "mimetype": "text/x-python",
   "name": "python",
   "nbconvert_exporter": "python",
   "pygments_lexer": "ipython3",
   "version": "3.9.13"
  },
  "orig_nbformat": 4,
  "vscode": {
   "interpreter": {
    "hash": "a27e977d227fba7592347e2a0dd68332846149cb0d614018ee9b918ebae0d940"
   }
  }
 },
 "nbformat": 4,
 "nbformat_minor": 2
}
