{
 "cells": [
  {
   "cell_type": "code",
   "execution_count": 3,
   "metadata": {},
   "outputs": [
    {
     "name": "stdout",
     "output_type": "stream",
     "text": [
      "[20, 91] [20, 0]\n"
     ]
    }
   ],
   "source": [
    "import pandas as pd\n",
    "alph = \"abcdefghijklmnopqrstuvwxyz\"\n",
    "grid = []\n",
    "dist = []\n",
    "for j, line in enumerate(open(\"input.txt\", \"r\").readlines()):\n",
    "    temp = []\n",
    "    for i, char in enumerate(line.strip(\"\\n\")):\n",
    "        if char == \"S\":\n",
    "            S = [j, i]\n",
    "            char = \"a\"\n",
    "        elif char == \"E\":\n",
    "            E = [j, i]\n",
    "            char = \"z\"\n",
    "        temp.append(char)\n",
    "    grid.append(temp)\n",
    "print(E, S)\n",
    "def short_path(start, end, grid, moves, dist, early_success = False):\n",
    "    old = [start]\n",
    "    pos = pd.DataFrame(columns=[\"y\", \"x\", \"steps\", \"cost\"], data=[[start[0], start[1], 0, dist[start[0]][start[1]]]])\n",
    "    num = len(grid) * len(grid[0])\n",
    "    a = len(grid) * len(grid[0])\n",
    "    while len(pos.index) > 0:\n",
    "        y = pos.loc[pos.index[0], \"y\"]\n",
    "        x = pos.loc[pos.index[0], \"x\"]\n",
    "        s = pos.loc[pos.index[0], \"steps\"]\n",
    "        for m in moves[y][x]:\n",
    "            _y = y + m[0]\n",
    "            _x = x + m[1]\n",
    "            if [_y, _x] not in old:\n",
    "                temp = pd.DataFrame(columns=pos.columns, data=[[_y, _x, s + 1, s + 1 + dist[_y][_x]]])\n",
    "                pos = pd.concat([pos, temp], ignore_index=True)\n",
    "            if [_y, _x] == end:\n",
    "                num = min(num, pos.loc[pos.index[0], \"steps\"] + 1)\n",
    "                if early_success:\n",
    "                    return num, a\n",
    "            else:\n",
    "                if grid[_y][_x] == \"a\":\n",
    "                    a = min(a, pos.loc[pos.index[0], \"steps\"] + 1)\n",
    "            old.append([_y, _x])\n",
    "        pos = pos.iloc[1:, :]\n",
    "        pos = pos.sort_values(by=\"cost\")\n",
    "    return num, a"
   ]
  },
  {
   "cell_type": "code",
   "execution_count": 4,
   "metadata": {},
   "outputs": [
    {
     "name": "stdout",
     "output_type": "stream",
     "text": [
      "(425, 1)\n"
     ]
    }
   ],
   "source": [
    "dist = [[0 for i in range(len(grid[0]))] for j in range(len(grid))]\n",
    "moves = [[0 for i in range(len(grid[0]))] for j in range(len(grid))]\n",
    "y = len(grid)\n",
    "x = len(grid[0])\n",
    "for j, _ in enumerate(grid):\n",
    "    for i, _ in enumerate(grid[0]):\n",
    "        dist[j][i] = ((j - E[0]) ** 2 + (i - E[1]) ** 2) ** 0.5\n",
    "        pm = [[0, 0] for _ in range(4)]\n",
    "        if j > 0:\n",
    "            if (alph.index(grid[j - 1][i]) - 1) <= alph.index(grid[j][i]):\n",
    "                pm[0][0] = -1\n",
    "        if j < y - 1:\n",
    "            if (alph.index(grid[j + 1][i]) - 1) <= alph.index(grid[j][i]):\n",
    "                pm[1][0] = 1\n",
    "        if i > 0:\n",
    "            if (alph.index(grid[j][i - 1]) - 1) <= alph.index(grid[j][i]):\n",
    "                pm[2][1] = -1\n",
    "        if i < x - 1:\n",
    "            if (alph.index(grid[j][i + 1]) - 1) <= alph.index(grid[j][i]):\n",
    "                pm[3][1] = 1\n",
    "        moves[j][i] = pm\n",
    "print(short_path(S, E, grid, moves, dist, True))"
   ]
  },
  {
   "cell_type": "code",
   "execution_count": 5,
   "metadata": {},
   "outputs": [
    {
     "name": "stdout",
     "output_type": "stream",
     "text": [
      "425 418\n"
     ]
    }
   ],
   "source": [
    "dist = [[0 for i in range(len(grid[0]))] for j in range(len(grid))]\n",
    "moves = [[0 for i in range(len(grid[0]))] for j in range(len(grid))]\n",
    "y = len(grid)\n",
    "x = len(grid[0])\n",
    "for j, _ in enumerate(grid):\n",
    "    for i, _ in enumerate(grid[0]):\n",
    "        dist[j][i] = ((j - E[0]) ** 2 + (i - E[1]) ** 2) ** 0.5\n",
    "        pm = [[0, 0] for _ in range(4)]\n",
    "        if j > 0:\n",
    "            if alph.index(grid[j - 1][i]) + 1 >= alph.index(grid[j][i]):\n",
    "                pm[0][0] = -1\n",
    "        if j < y - 1:\n",
    "            if alph.index(grid[j + 1][i]) + 1 >= alph.index(grid[j][i]):\n",
    "                pm[1][0] = 1\n",
    "        if i > 0:\n",
    "            if alph.index(grid[j][i - 1]) + 1 >= alph.index(grid[j][i]):\n",
    "                pm[2][1] = -1\n",
    "        if i < x - 1:\n",
    "            if alph.index(grid[j][i + 1]) + 1 >= alph.index(grid[j][i]):\n",
    "                pm[3][1] = 1\n",
    "        moves[j][i] = pm\n",
    "num, a = short_path(E, S, grid, moves, dist)\n",
    "print(num, a)"
   ]
  }
 ],
 "metadata": {
  "kernelspec": {
   "display_name": "pyenv",
   "language": "python",
   "name": "python3"
  },
  "language_info": {
   "codemirror_mode": {
    "name": "ipython",
    "version": 3
   },
   "file_extension": ".py",
   "mimetype": "text/x-python",
   "name": "python",
   "nbconvert_exporter": "python",
   "pygments_lexer": "ipython3",
   "version": "3.9.13"
  },
  "orig_nbformat": 4,
  "vscode": {
   "interpreter": {
    "hash": "a27e977d227fba7592347e2a0dd68332846149cb0d614018ee9b918ebae0d940"
   }
  }
 },
 "nbformat": 4,
 "nbformat_minor": 2
}
