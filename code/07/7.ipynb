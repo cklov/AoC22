{
 "cells": [
  {
   "cell_type": "code",
   "execution_count": 252,
   "metadata": {},
   "outputs": [
    {
     "name": "stdout",
     "output_type": "stream",
     "text": [
      "1792222\n",
      "1112963\n"
     ]
    }
   ],
   "source": [
    "curr_path = []\n",
    "dirs = {\"/\": 0}\n",
    "delim = \"/\"\n",
    "def add_size(ds, path, size):\n",
    "    for i, _ in enumerate(path):\n",
    "        ds[delim.join(path[:i + 1])] += size\n",
    "    pass\n",
    "for line in open(\"input.txt\", \"r\").readlines():\n",
    "    cmd = line.split()\n",
    "    if cmd[0] == \"$\":\n",
    "        if cmd[1] == 'cd':\n",
    "            if cmd [2] == \"/\":\n",
    "                curr_path = [\"/\"]\n",
    "            elif cmd[2] == \"..\":\n",
    "                curr_path.pop(-1)\n",
    "            else:\n",
    "                curr_path.append(cmd[2])\n",
    "    elif cmd[0] == \"dir\":\n",
    "        dir = delim.join(curr_path) + delim + cmd[1]\n",
    "        dirs[dir] = 0 if dir not in dirs.keys() else dirs[dir]\n",
    "    else:\n",
    "        add_size(dirs, curr_path, int(cmd[0]))\n",
    "print(sum([dirs[key] for key in dirs.keys() if dirs[key] <= 100000]))\n",
    "print(min([dirs[key] for key in dirs.keys() if (dirs[\"/\"] - dirs[key]) <= 40000000]))"
   ]
  }
 ],
 "metadata": {
  "kernelspec": {
   "display_name": "Python 3.9.13 ('pyenv': venv)",
   "language": "python",
   "name": "python3"
  },
  "language_info": {
   "codemirror_mode": {
    "name": "ipython",
    "version": 3
   },
   "file_extension": ".py",
   "mimetype": "text/x-python",
   "name": "python",
   "nbconvert_exporter": "python",
   "pygments_lexer": "ipython3",
   "version": "3.9.13"
  },
  "orig_nbformat": 4,
  "vscode": {
   "interpreter": {
    "hash": "a27e977d227fba7592347e2a0dd68332846149cb0d614018ee9b918ebae0d940"
   }
  }
 },
 "nbformat": 4,
 "nbformat_minor": 2
}
